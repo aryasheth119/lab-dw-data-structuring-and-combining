{
 "cells": [
  {
   "cell_type": "markdown",
   "id": "25d7736c-ba17-4aff-b6bb-66eba20fbf4e",
   "metadata": {},
   "source": [
    "# Lab | Data Structuring and Combining Data"
   ]
  },
  {
   "cell_type": "markdown",
   "id": "34ae7c66-9458-477c-8a31-c6b07a36bf66",
   "metadata": {},
   "source": [
    "Objective: \n",
    "- Combine and integrate data from multiple sources using merging, concatenating, or joining techniques to generate more comprehensive and meaningful datasets for analysis.\n",
    "- Modify the structure of data by pivoting, stacking/unstacking, or melting dataframes, enabling them to efficiently explore and analyze complex datasets. "
   ]
  },
  {
   "cell_type": "markdown",
   "id": "92b5f497-2c72-422b-86f7-06ad8842fd6d",
   "metadata": {},
   "source": [
    "# Challenge 1: Combining Data"
   ]
  },
  {
   "cell_type": "markdown",
   "id": "44f43906-6d37-4316-9ab4-7b6de18bc367",
   "metadata": {},
   "source": [
    "In this challenge, we will be working with the customer data from an insurance company, as we did in the two previous labs. The data can be found here:\n",
    "- https://raw.githubusercontent.com/data-bootcamp-v4/data/main/file1.csv\n",
    "\n",
    "But this time, we got new data, which can be found in the following 2 CSV files located at the following links: \n",
    "- https://raw.githubusercontent.com/data-bootcamp-v4/data/main/file2.csv\n",
    "- https://raw.githubusercontent.com/data-bootcamp-v4/data/main/file3.csv\n"
   ]
  },
  {
   "cell_type": "markdown",
   "id": "47bdd691-d5dd-4b85-a3be-3ca943cbf1e5",
   "metadata": {},
   "source": [
    "Perform data cleaning and formatting using the main cleaning and formatting function created in the previous lab to clean and format the data."
   ]
  },
  {
   "cell_type": "markdown",
   "id": "4eb4761d-8b1d-4ebb-a600-df45e1233ab4",
   "metadata": {},
   "source": [
    "Combine the data from the three dataframes into a single dataframe, named \"customer_data\", using appropriate merging, concatenating, and joining techniques.\n",
    "\n",
    "Verify that the customer_data dataframe contains all the rows and columns from the three original dataframes."
   ]
  },
  {
   "cell_type": "markdown",
   "id": "5d329067-5fe0-4a8f-b69d-d5b5cff0b7bf",
   "metadata": {},
   "source": [
    "Observation: \n",
    "- One option is to first combine the three datasets and then apply the cleaning function to the new combined dataset\n",
    "- Another option would be to read the clean file you saved in the previous lab, and just clean the two new files and concatenate the three clean datasets"
   ]
  },
  {
   "cell_type": "code",
   "execution_count": 1,
   "id": "492d06e3-92c7-4105-ac72-536db98d3244",
   "metadata": {},
   "outputs": [
    {
     "name": "stdout",
     "output_type": "stream",
     "text": [
      "(9010, 13)\n",
      "  Customer          ST GENDER             Education Customer Lifetime Value  \\\n",
      "0  QZ44356     Arizona      F              Bachelor              697953.59%   \n",
      "1  AI49188      Nevada      F              Bachelor             1288743.17%   \n",
      "2  WW63253  California      M              Bachelor              764586.18%   \n",
      "3  GA49547  Washington      M  High School or Below              536307.65%   \n",
      "4  OC83172      Oregon      F              Bachelor              825629.78%   \n",
      "\n",
      "    Income  Monthly Premium Auto Number of Open Complaints     Policy Type  \\\n",
      "0      0.0                  94.0                    1/0/00   Personal Auto   \n",
      "1  48767.0                 108.0                    1/0/00   Personal Auto   \n",
      "2      0.0                 106.0                    1/0/00  Corporate Auto   \n",
      "3  36357.0                  68.0                    1/0/00   Personal Auto   \n",
      "4  62902.0                  69.0                    1/0/00   Personal Auto   \n",
      "\n",
      "   Vehicle Class  Total Claim Amount State Gender  \n",
      "0  Four-Door Car         1131.464935   NaN    NaN  \n",
      "1   Two-Door Car          566.472247   NaN    NaN  \n",
      "2            SUV          529.881344   NaN    NaN  \n",
      "3  Four-Door Car           17.269323   NaN    NaN  \n",
      "4   Two-Door Car          159.383042   NaN    NaN  \n"
     ]
    }
   ],
   "source": [
    "import pandas as pd\n",
    "\n",
    "file1 = pd.read_csv(\"file1.csv\")\n",
    "file2 = pd.read_csv(\"file2.csv\")\n",
    "file3 = pd.read_csv(\"file3.csv\")\n",
    "\n",
    "def clean_and_format_data(df):\n",
    "    '''\n",
    "    Perform data cleaning and formatting operations on df\n",
    "    '''\n",
    "    cleaned_df = df.dropna().drop_duplicates()\n",
    "    return cleaned_df\n",
    "\n",
    "file1_cleaned = clean_and_format_data(file1)\n",
    "file2_cleaned = clean_and_format_data(file2)\n",
    "file3_cleaned = clean_and_format_data(file3)\n",
    "\n",
    "customer_data = pd.concat([file1_cleaned, file2_cleaned, file3_cleaned], ignore_index=True)\n",
    "\n",
    "print(customer_data.shape)\n",
    "print(customer_data.head())\n",
    "\n",
    "\n"
   ]
  },
  {
   "cell_type": "markdown",
   "id": "31b8a9e7-7db9-4604-991b-ef6771603e57",
   "metadata": {},
   "source": [
    "# Challenge 2: Structuring Data"
   ]
  },
  {
   "cell_type": "markdown",
   "id": "541006a8-7f35-4a82-813e-ca10c1183668",
   "metadata": {},
   "source": [
    "In this challenge, we will continue to work with customer data from an insurance company, but we will use a dataset with more columns, called marketing_customer_analysis.csv, which can be found at the following link:\n",
    "\n",
    "https://raw.githubusercontent.com/data-bootcamp-v4/data/main/marketing_customer_analysis.csv\n",
    "\n",
    "This dataset contains information such as customer demographics, policy details, vehicle information, and the customer's response to the last marketing campaign. Our goal is to explore and analyze this data by performing data cleaning, formatting, and structuring."
   ]
  },
  {
   "cell_type": "markdown",
   "id": "2677810d-3180-4fbe-855b-525cf8d35208",
   "metadata": {},
   "source": [
    "## Exercise 1: Clean and Format the Data"
   ]
  },
  {
   "cell_type": "markdown",
   "id": "0aa50045-76ce-4e9f-8836-82dbc689d8dd",
   "metadata": {},
   "source": [
    "While the dataset has been partially cleaned and formatted, we still need to perform several data cleaning tasks. Specifically, we need to standardize the column names, clean null values, convert the effective_to_date column to datetime, and extract the months from the dataset and store them in a separate column. \n",
    "\n",
    "To accomplish these tasks, we will use the functions created in the previous step to standardize the column names and deal with null values, and then we will apply additional functions to convert the effective_to_date column to datetime and extract the months.\n",
    "\n",
    "Save the clean dataset into a csv file."
   ]
  },
  {
   "cell_type": "code",
   "execution_count": 2,
   "id": "aa10d9b0-1c27-4d3f-a8e4-db6ab73bfd26",
   "metadata": {},
   "outputs": [],
   "source": [
    "import pandas as pd\n",
    "import numpy as np\n",
    "\n",
    "def standardize_column_names(df):\n",
    "    df.columns = df.columns.str.replace(' ', '_').str.lower()\n",
    "    return df\n",
    "\n",
    "data = pd.read_csv(\"marketing_customer_analysis.csv\")\n",
    "data = standardize_column_names(data)\n",
    "data = data.dropna()\n",
    "data['effective_to_date'] = pd.to_datetime(data['effective_to_date'])\n",
    "data['month'] = data['effective_to_date'].dt.month\n",
    "\n",
    "data.to_csv(\"cleaned_marketing_data.csv\", index=False)"
   ]
  },
  {
   "cell_type": "markdown",
   "id": "80f846bb-3f5e-4ca2-96c0-900728daca5a",
   "metadata": {
    "tags": []
   },
   "source": [
    "## Exercise 2: Structuring Data"
   ]
  },
  {
   "cell_type": "markdown",
   "id": "df35fd0d-513e-4e77-867e-429da10a9cc7",
   "metadata": {},
   "source": [
    "1. You work at the marketing department and you want to know which sales channel brought the most sales in terms of total revenue. Using pivot, create a summary table showing the total revenue for each sales channel (branch, call center, web, and mail).\n",
    "Round the total revenue to 2 decimal points.  Analyze the resulting table to draw insights."
   ]
  },
  {
   "cell_type": "markdown",
   "id": "640993b2-a291-436c-a34d-a551144f8196",
   "metadata": {},
   "source": [
    "2. Create a pivot table that shows the average customer lifetime value per gender and education level. Analyze the resulting table to draw insights."
   ]
  },
  {
   "cell_type": "markdown",
   "id": "32c7f2e5-3d90-43e5-be33-9781b6069198",
   "metadata": {},
   "source": [
    "3. You work at the customer service department and you want to know which months had the highest number of complaints by policy type category. Create a summary table showing the number of complaints by policy type and month.\n",
    "Show it in a long format table. "
   ]
  },
  {
   "cell_type": "markdown",
   "id": "e3d09a8f-953c-448a-a5f8-2e5a8cca7291",
   "metadata": {},
   "source": [
    "*In data analysis, a long format table is a way of structuring data in which each observation or measurement is stored in a separate row of the table. The key characteristic of a long format table is that each column represents a single variable, and each row represents a single observation of that variable.*\n",
    "\n",
    "*More information about long and wide format tables here: https://www.statology.org/long-vs-wide-data/*"
   ]
  },
  {
   "cell_type": "code",
   "execution_count": 15,
   "id": "3a069e0b-b400-470e-904d-d17582191be4",
   "metadata": {},
   "outputs": [
    {
     "name": "stdout",
     "output_type": "stream",
     "text": [
      "               total_claim_amount\n",
      "sales_channel                    \n",
      "Agent                   757063.79\n",
      "Branch                  547893.57\n",
      "Call Center             391964.55\n",
      "Web                     285995.48\n"
     ]
    }
   ],
   "source": [
    "sales_channel_revenue = data.pivot_table(values='total_claim_amount', index='sales_channel', aggfunc='sum').round(2)\n",
    "\n",
    "print(sales_channel_revenue)"
   ]
  },
  {
   "cell_type": "code",
   "execution_count": 16,
   "id": "a36467e2",
   "metadata": {},
   "outputs": [
    {
     "name": "stdout",
     "output_type": "stream",
     "text": [
      "                             customer_lifetime_value\n",
      "gender education                                    \n",
      "F      Bachelor                              8039.29\n",
      "       College                               7798.08\n",
      "       Doctor                                8475.30\n",
      "       High School or Below                  8475.52\n",
      "       Master                                8243.13\n",
      "M      Bachelor                              8125.26\n",
      "       College                               7984.30\n",
      "       Doctor                                7659.74\n",
      "       High School or Below                  7730.15\n",
      "       Master                                8013.87\n"
     ]
    }
   ],
   "source": [
    "clv_table = data.pivot_table(values='customer_lifetime_value', index=['gender', 'education'], aggfunc='mean').round(2)\n",
    "\n",
    "print(clv_table)\n"
   ]
  },
  {
   "cell_type": "code",
   "execution_count": 18,
   "id": "58dec9c8",
   "metadata": {},
   "outputs": [
    {
     "name": "stdout",
     "output_type": "stream",
     "text": [
      "      policy_type month  complaints\n",
      "0  Corporate Auto     1       161.0\n",
      "1   Personal Auto     1       725.0\n",
      "2    Special Auto     1        33.0\n",
      "3  Corporate Auto     2       176.0\n",
      "4   Personal Auto     2       623.0\n",
      "5    Special Auto     2        37.0\n"
     ]
    }
   ],
   "source": [
    "complaints_table = data.pivot_table(values='number_of_open_complaints', index='policy_type', columns='month', aggfunc='sum').fillna(0)\n",
    "\n",
    "complaints_table_long = complaints_table.reset_index().melt(id_vars='policy_type', var_name='month', value_name='complaints')\n",
    "\n",
    "print(complaints_table_long)\n"
   ]
  },
  {
   "cell_type": "code",
   "execution_count": null,
   "id": "f5d38461",
   "metadata": {},
   "outputs": [],
   "source": []
  }
 ],
 "metadata": {
  "kernelspec": {
   "display_name": "Python 3 (ipykernel)",
   "language": "python",
   "name": "python3"
  },
  "language_info": {
   "codemirror_mode": {
    "name": "ipython",
    "version": 3
   },
   "file_extension": ".py",
   "mimetype": "text/x-python",
   "name": "python",
   "nbconvert_exporter": "python",
   "pygments_lexer": "ipython3",
   "version": "3.10.9"
  }
 },
 "nbformat": 4,
 "nbformat_minor": 5
}
